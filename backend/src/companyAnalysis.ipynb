{
 "cells": [
  {
   "cell_type": "code",
   "execution_count": 3,
   "metadata": {},
   "outputs": [],
   "source": [
    "import pandas as pd\n",
    "import numpy as np\n",
    "import json"
   ]
  },
  {
   "cell_type": "code",
   "execution_count": 350,
   "metadata": {},
   "outputs": [
    {
     "name": "stdout",
     "output_type": "stream",
     "text": [
      "SEC_CONV       object\n",
      "MRKCAP         object\n",
      "MRKCAP_AMT     object\n",
      "MRKCAP_TYPE    object\n",
      "Conversion      int32\n",
      "dtype: object\n",
      "9223372036854775807\n",
      "                 SEC_CONV    Conversion\n",
      "0        Basic Industries  7.511351e+07\n",
      "1           Capital Goods  9.196153e+07\n",
      "2       Consumer Industry  8.041427e+07\n",
      "3                 Finance  5.635905e+07\n",
      "4             Health Care  6.102823e+07\n",
      "5           Miscellaneous  6.134793e+07\n",
      "6  No Industry Identified  3.162555e+07\n",
      "7        Public Utilities  2.797412e+07\n",
      "8       Technology/Energy  7.244389e+07\n",
      "9          Transportation  2.580533e+08\n"
     ]
    },
    {
     "data": {
      "text/plain": [
       "'{\"SEC_CONV\":{\"0\":\"Basic Industries\",\"1\":\"Capital Goods\",\"2\":\"Consumer Industry\",\"3\":\"Finance\",\"4\":\"Health Care\",\"5\":\"Miscellaneous\",\"6\":\"No Industry Identified\",\"7\":\"Public Utilities\",\"8\":\"Technology/Energy\",\"9\":\"Transportation\"},\"Conversion\":{\"0\":75113514.4736842066,\"1\":91961525.0400000066,\"2\":80414268.9599999934,\"3\":56359050.0,\"4\":61028234.1599999964,\"5\":61347932.3298969045,\"6\":31625552.0,\"7\":27974124.8615384623,\"8\":72443885.2399999946,\"9\":258053276.8571428657}}'"
      ]
     },
     "execution_count": 350,
     "metadata": {},
     "output_type": "execute_result"
    }
   ],
   "source": [
    "# Getting list of 100 industries from 10 sectors. \n",
    "import requests\n",
    "import pandas as pd\n",
    "import numpy as np\n",
    "import sys\n",
    "import json\n",
    "df = pd.DataFrame()\n",
    "\n",
    "def get_avg_sector_rates():\n",
    "    cols_to_use = [0,1,2,3,4,5,6,7]\n",
    "    csv_file_path = \"../../assets/companylist.csv\"\n",
    "    df = pd.read_csv(csv_file_path, \n",
    "        usecols= cols_to_use,\n",
    "        encoding='utf-8'\n",
    "        )\n",
    "    df['IPOyear'] = df['IPOyear'].astype(str)\n",
    "    df['IPOyear'] = df['IPOyear'].str.strip('.0')\n",
    "    df = df.rename(index=str, columns = {\"Symbol\": \"SYM\", \"Name\": \"CO.\", \"LastSale\": \"LP\", \"MarketCap\": \"MRKCAP\", \"IPOyear\": \"YR\", \"Sector\": \"SEC\", \"industry\": \"IND\", \"Summary Quote\": \"SUMQTE\"})\n",
    "    df['SYM'] = df['SYM'].str.strip()\n",
    "    df['SEC'] = df['SEC'].str.strip()\n",
    "    df['SEC_CONV'] = np.where(df['SEC']==\"Consumer Durables\", 'Consumer Industry', df['SEC'])\n",
    "    df['SEC_CONV'] = np.where(df['SEC']==\"Consumer Non-Durables\", 'Consumer Industry', df['SEC'])\n",
    "    df['SEC_CONV'] = np.where(df['SEC']=='Consumer Services', 'Consumer Industry', df['SEC'])\n",
    "    df[\"SEC\"] = df[\"SEC\"].replace(\"Empty\", \"No Industry Identified\")\n",
    "    df[\"SEC_CONV\"] = df[\"SEC_CONV\"].replace(\"Empty\", \"No Industry Identified\")\n",
    "    df[\"SEC_CONV\"] = df[\"SEC_CONV\"].replace(\"Consumer Durables\", \"Consumer Industry\")\n",
    "    df[\"SEC_CONV\"] = df[\"SEC_CONV\"].replace(\"Consumer Non-Durables\", \"Consumer Industry\")\n",
    "    df[\"SEC_CONV\"] = df[\"SEC_CONV\"].replace(\"Technology\", \"Technology/Energy\")\n",
    "    df[\"SEC_CONV\"] = df[\"SEC_CONV\"].replace(\"Energy\", \"Technology/Energy\")\n",
    "    df = df.groupby('SEC_CONV').head(100)\n",
    "    df = df.iloc[:, [8,3]]\n",
    "    df['MRKCAP'] = df['MRKCAP'].str.replace('$', '')\n",
    "    df['MRKCAP'] = df['MRKCAP'].str.replace(',', '')\n",
    "    df['MRKCAP'] = df['MRKCAP'].str.replace('M', ' M')\n",
    "    df['MRKCAP'] = df['MRKCAP'].str.replace('B', ' B')\n",
    "    df['SEC_CONV'] = df['SEC_CONV'].fillna(value='No Industry Identified')\n",
    "    df['MRKCAP'] = df['MRKCAP'].fillna(value='0 D')\n",
    "    df.dropna(inplace = True)\n",
    "    df[['MRKCAP_AMT','MRKCAP_TYPE']] = df.MRKCAP.str.split(\" \",expand=True,)\n",
    "    millions = df['MRKCAP_AMT'].str.replace('.', '').fillna(value='0').astype(int).multiply(other = 100, fill_value = 5)\n",
    "    billions = df['MRKCAP_AMT'].str.replace('.', '').fillna(value='0').astype(int).multiply(other = 1000000, fill_value = 5)\n",
    "    df.loc[df['MRKCAP_TYPE'] == 'M', 'Conversion'] = millions\n",
    "    df.loc[df['MRKCAP_TYPE'] == 'B', 'Conversion'] = billions\n",
    "    df.loc[df['MRKCAP_TYPE'] == 'D', 'Conversion'] = 0\n",
    "    df.loc[df['MRKCAP_TYPE'] == 'None', 'Conversion'] = df['MRKCAP_AMT'].fillna(value='0')\n",
    "    df['Conversion'] = df['Conversion'].fillna(value='0')\n",
    "    df['Conversion'] = df['Conversion'].astype(int)\n",
    "    print(df.dtypes)\n",
    "    print(sys.maxsize)\n",
    "    group_sectors = df.groupby(['SEC_CONV','Conversion'])\n",
    "    res = df.groupby(['SEC_CONV'])['Conversion'].mean().reset_index()\n",
    "    print(res)\n",
    "    res = res.to_json(orient='columns')\n",
    "    res = json.dumps(res)\n",
    "    res = res.replace('\\\\','')\n",
    "    res = res.replace('\"{','{')\n",
    "    res = res.replace('}\"','}')\n",
    "#   res.to_csv(r'c:/development/python\\mrkcap.csv')\n",
    "    return res\n",
    "get_avg_sector_rates()"
   ]
  },
  {
   "cell_type": "code",
   "execution_count": 144,
   "metadata": {
    "scrolled": true
   },
   "outputs": [
    {
     "ename": "NameError",
     "evalue": "name 'symbol' is not defined",
     "output_type": "error",
     "traceback": [
      "\u001b[1;31m---------------------------------------------------------------------------\u001b[0m",
      "\u001b[1;31mNameError\u001b[0m                                 Traceback (most recent call last)",
      "\u001b[1;32m<ipython-input-144-6cb6524c25ec>\u001b[0m in \u001b[0;36m<module>\u001b[1;34m\u001b[0m\n\u001b[0;32m     18\u001b[0m         \u001b[0mprint\u001b[0m\u001b[1;33m(\u001b[0m\u001b[1;34m\"API did not pull any data from alphavantage\"\u001b[0m\u001b[1;33m)\u001b[0m\u001b[1;33m\u001b[0m\u001b[1;33m\u001b[0m\u001b[0m\n\u001b[0;32m     19\u001b[0m \u001b[1;31m# Executes the function\u001b[0m\u001b[1;33m\u001b[0m\u001b[1;33m\u001b[0m\u001b[1;33m\u001b[0m\u001b[0m\n\u001b[1;32m---> 20\u001b[1;33m \u001b[0mget_stock_data_from_alphavantage_by_symbol\u001b[0m\u001b[1;33m(\u001b[0m\u001b[0msymbol\u001b[0m\u001b[1;33m)\u001b[0m\u001b[1;33m\u001b[0m\u001b[1;33m\u001b[0m\u001b[0m\n\u001b[0m",
      "\u001b[1;31mNameError\u001b[0m: name 'symbol' is not defined"
     ]
    }
   ],
   "source": [
    "#API Data Pull\n",
    "import pandas as pd\n",
    "import requests\n",
    "# symbol = \"YI\"\n",
    "def get_stock_data_from_alphavantage_by_symbol(symbol):\n",
    "    Alpha_Advantage_API = \"https://www.alphavantage.co/query?function=SYMBOL_SEARCH&keywords=\" + symbol + \"&apikey=GJS1X1O8CLA8KA4H\"\n",
    "    resp = requests.get(Alpha_Advantage_API)\n",
    "    if resp.status_code == 200:\n",
    "        print(resp.status_code)\n",
    "        data = resp.json()\n",
    "        data = data['bestMatches']\n",
    "        df2 = pd.DataFrame.from_dict(data, orient='columns')\n",
    "        df2.columns = ['SYM', 'CO.', 'Type', 'Country', 'LP-Time', 'LP-End-Time', 'UTC-Type', 'Dollar-Type', 'Last-List-Price']\n",
    "        df2['SYM'] = df2['SYM'].str.strip()\n",
    "        df2.loc[df2['SYM'] == str(symbol)]\n",
    "        return df2\n",
    "    else:\n",
    "        print(\"API did not pull any data from alphavantage\")\n",
    "# Executes the function\n",
    "get_stock_data_from_alphavantage_by_symbol(symbol)\n"
   ]
  },
  {
   "cell_type": "code",
   "execution_count": 116,
   "metadata": {},
   "outputs": [
    {
     "name": "stdout",
     "output_type": "stream",
     "text": [
      "200\n"
     ]
    },
    {
     "data": {
      "text/html": [
       "<div>\n",
       "<style scoped>\n",
       "    .dataframe tbody tr th:only-of-type {\n",
       "        vertical-align: middle;\n",
       "    }\n",
       "\n",
       "    .dataframe tbody tr th {\n",
       "        vertical-align: top;\n",
       "    }\n",
       "\n",
       "    .dataframe thead th {\n",
       "        text-align: right;\n",
       "    }\n",
       "</style>\n",
       "<table border=\"1\" class=\"dataframe\">\n",
       "  <thead>\n",
       "    <tr style=\"text-align: right;\">\n",
       "      <th></th>\n",
       "      <th>SYM</th>\n",
       "      <th>CO.</th>\n",
       "      <th>Type</th>\n",
       "      <th>Country</th>\n",
       "      <th>LP-Time</th>\n",
       "      <th>LP-End-Time</th>\n",
       "      <th>UTC-Type</th>\n",
       "      <th>Dollar-Type</th>\n",
       "      <th>Last-List-Price</th>\n",
       "      <th>LP</th>\n",
       "      <th>MRKCAP</th>\n",
       "      <th>YR</th>\n",
       "      <th>SEC</th>\n",
       "      <th>IND</th>\n",
       "      <th>SUMQTE</th>\n",
       "    </tr>\n",
       "  </thead>\n",
       "  <tbody>\n",
       "    <tr>\n",
       "      <th>0</th>\n",
       "      <td>YIN</td>\n",
       "      <td>Yintech Investment Holdings Limited</td>\n",
       "      <td>Equity</td>\n",
       "      <td>United States</td>\n",
       "      <td>09:30</td>\n",
       "      <td>16:00</td>\n",
       "      <td>UTC-04</td>\n",
       "      <td>USD</td>\n",
       "      <td>0.4000</td>\n",
       "      <td>4.95</td>\n",
       "      <td>$353.66M</td>\n",
       "      <td>2016</td>\n",
       "      <td>Finance</td>\n",
       "      <td>Investment Bankers/Brokers/Service</td>\n",
       "      <td>https://www.nasdaq.com/symbol/yin</td>\n",
       "    </tr>\n",
       "  </tbody>\n",
       "</table>\n",
       "</div>"
      ],
      "text/plain": [
       "   SYM                                  CO.    Type        Country LP-Time  \\\n",
       "0  YIN  Yintech Investment Holdings Limited  Equity  United States   09:30   \n",
       "\n",
       "  LP-End-Time UTC-Type Dollar-Type Last-List-Price    LP    MRKCAP    YR  \\\n",
       "0       16:00   UTC-04         USD          0.4000  4.95  $353.66M  2016   \n",
       "\n",
       "       SEC                                 IND  \\\n",
       "0  Finance  Investment Bankers/Brokers/Service   \n",
       "\n",
       "                              SUMQTE  \n",
       "0  https://www.nasdaq.com/symbol/yin  "
      ]
     },
     "execution_count": 116,
     "metadata": {},
     "output_type": "execute_result"
    }
   ],
   "source": [
    "#Merging data that is found within the Second Dataframe from the API\n",
    "def merge_company_data_for_single_api(sym1, sym2):\n",
    "#     sym1 = get_stock_data_from_alphavantage_by_symbol()\n",
    "#     sym2 = get_company_data_from_csv()\n",
    "    return sym1.merge(sym2)"
   ]
  },
  {
   "cell_type": "code",
   "execution_count": 178,
   "metadata": {
    "scrolled": true
   },
   "outputs": [
    {
     "name": "stdout",
     "output_type": "stream",
     "text": [
      "200\n"
     ]
    },
    {
     "data": {
      "text/plain": [
       "Communication Services                                              NaN\n",
       "Consumer Discretionary                                              NaN\n",
       "Consumer Staples                                                    NaN\n",
       "Energy                                                              NaN\n",
       "Financials                                                          NaN\n",
       "Health Care                                                         NaN\n",
       "Industrials                                                         NaN\n",
       "Information               US Sector Performance (realtime & historical)\n",
       "Information Technology                                              NaN\n",
       "Last Refreshed                                   04:20 PM ET 05/23/2019\n",
       "Materials                                                           NaN\n",
       "Real Estate                                                         NaN\n",
       "Utilities                                                           NaN\n",
       "Name: SEC, dtype: object"
      ]
     },
     "execution_count": 178,
     "metadata": {},
     "output_type": "execute_result"
    }
   ],
   "source": [
    "#Info from API\n",
    "import pandas as pd\n",
    "import requests\n",
    "def get_sector_stats():\n",
    "    Alpha_Advantage_API_Sector = \"https://www.alphavantage.co/query?function=SECTOR&apikey=GJS1X1O8CLA8KA4H\"\n",
    "    resp = requests.get(Alpha_Advantage_API_Sector)\n",
    "    if resp.status_code == 200:\n",
    "        print(resp.status_code)\n",
    "        data = resp.json()\n",
    "        df3 = pd.DataFrame.from_dict(data, orient='columns')\n",
    "        df3.columns = ['SEC', 'Real_Time', '1_Day_Performance', '5_Day_Performance', '1_Month_Performance', '3_Month_Performance', 'YTD_Performance', '1_Year_Performance', '3_Year_Performance', '5_Year_Performance', '10_Year_Performance']\n",
    "#         df3['SEC'] = df3['SEC'].str.strip()\n",
    "#         df2.loc[df2['SYM'] == str(symbol)]\n",
    "        df3 = df3['SEC']\n",
    "        df3 = df3.replace('NaN', '')\n",
    "        return df3\n",
    "    else:\n",
    "        print(\"API did not pull any data from alphavantage\")\n",
    "get_sector_stats()"
   ]
  },
  {
   "cell_type": "code",
   "execution_count": 60,
   "metadata": {},
   "outputs": [
    {
     "name": "stdout",
     "output_type": "stream",
     "text": [
      "200\n"
     ]
    },
    {
     "data": {
      "text/html": [
       "<div>\n",
       "<style scoped>\n",
       "    .dataframe tbody tr th:only-of-type {\n",
       "        vertical-align: middle;\n",
       "    }\n",
       "\n",
       "    .dataframe tbody tr th {\n",
       "        vertical-align: top;\n",
       "    }\n",
       "\n",
       "    .dataframe thead th {\n",
       "        text-align: right;\n",
       "    }\n",
       "</style>\n",
       "<table border=\"1\" class=\"dataframe\">\n",
       "  <thead>\n",
       "    <tr style=\"text-align: right;\">\n",
       "      <th></th>\n",
       "      <th>DATE</th>\n",
       "      <th>IMG_URL</th>\n",
       "      <th>NEWS_URL</th>\n",
       "      <th>Sentiment</th>\n",
       "      <th>Source_Name</th>\n",
       "      <th>Tags</th>\n",
       "      <th>Text</th>\n",
       "      <th>SYM</th>\n",
       "      <th>Title</th>\n",
       "      <th>Type</th>\n",
       "    </tr>\n",
       "  </thead>\n",
       "  <tbody>\n",
       "    <tr>\n",
       "      <th>0</th>\n",
       "      <td>Thu, 16 May 2019 19:11:29 -0400</td>\n",
       "      <td>https://stocknewsapi.com/images/v1/g/4/transcr...</td>\n",
       "      <td>https://seekingalpha.com/article/4264778-111-i...</td>\n",
       "      <td>Neutral</td>\n",
       "      <td>Seeking Alpha</td>\n",
       "      <td>[CallScript]</td>\n",
       "      <td>111, Inc's (YI) CEO Junling Liu on Q1 2019 Res...</td>\n",
       "      <td>[YI]</td>\n",
       "      <td>111, Inc's (YI) CEO Junling Liu on Q1 2019 Res...</td>\n",
       "      <td>Article</td>\n",
       "    </tr>\n",
       "  </tbody>\n",
       "</table>\n",
       "</div>"
      ],
      "text/plain": [
       "                              DATE  \\\n",
       "0  Thu, 16 May 2019 19:11:29 -0400   \n",
       "\n",
       "                                             IMG_URL  \\\n",
       "0  https://stocknewsapi.com/images/v1/g/4/transcr...   \n",
       "\n",
       "                                            NEWS_URL Sentiment    Source_Name  \\\n",
       "0  https://seekingalpha.com/article/4264778-111-i...   Neutral  Seeking Alpha   \n",
       "\n",
       "           Tags                                               Text   SYM  \\\n",
       "0  [CallScript]  111, Inc's (YI) CEO Junling Liu on Q1 2019 Res...  [YI]   \n",
       "\n",
       "                                               Title     Type  \n",
       "0  111, Inc's (YI) CEO Junling Liu on Q1 2019 Res...  Article  "
      ]
     },
     "execution_count": 60,
     "metadata": {},
     "output_type": "execute_result"
    }
   ],
   "source": [
    "#Articles via API\n",
    "import pandas as pd\n",
    "import requests\n",
    "def get_stock_news():\n",
    "    stock_news_api = \"https://stocknewsapi.com/api/v1?tickers=YI&items=50&type=article&token=qqygybi5zike7wfmu21lawdnfndqhhi53ndszk83\"\n",
    "    resp = requests.get(stock_news_api)\n",
    "    if resp.status_code == 200:\n",
    "        print(resp.status_code)\n",
    "        data = resp.json()\n",
    "        data = data['data']\n",
    "        df4 = pd.DataFrame.from_dict(data, orient='columns')\n",
    "        df4.columns = ['DATE', 'IMG_URL', 'NEWS_URL', 'Sentiment', 'Source_Name', 'Tags', 'Text', 'SYM', 'Title', 'Type']\n",
    "        return df4\n",
    "    else:\n",
    "        print(\"API did not pull any data from alphavantage\")\n",
    "get_stock_news()"
   ]
  },
  {
   "cell_type": "code",
   "execution_count": 72,
   "metadata": {},
   "outputs": [
    {
     "data": {
      "text/plain": [
       "[<img alt=\"BHF\" class=\"quote-symbol-icon\" height=\"40\" src=\"https://www.nasdaq.com/logos/BHF.gif\" width=\"100\"/>]"
      ]
     },
     "execution_count": 72,
     "metadata": {},
     "output_type": "execute_result"
    }
   ],
   "source": [
    "#Web Scrap\n",
    "import pandas as pd\n",
    "import requests\n",
    "from bs4 import BeautifulSoup\n",
    "symbols = ['yi','bhf']\n",
    "companyimages = []\n",
    "nasdaq_website = \"https://www.nasdaq.com/symbol/bhf\"\n",
    "page = requests.get(nasdaq_website)\n",
    "soup = BeautifulSoup(page.text, 'html.parser')\n",
    "review_text_elem = soup.find_all(class_='quote-symbol-icon')\n",
    "\n",
    "for item in review_text_elem:\n",
    "    companyimages.append(item)\n",
    "\n",
    "companyimages\n",
    "# review_text_elem\n",
    "\n"
   ]
  },
  {
   "cell_type": "code",
   "execution_count": null,
   "metadata": {},
   "outputs": [],
   "source": []
  }
 ],
 "metadata": {
  "kernelspec": {
   "display_name": "Python 3",
   "language": "python",
   "name": "python3"
  },
  "language_info": {
   "codemirror_mode": {
    "name": "ipython",
    "version": 3
   },
   "file_extension": ".py",
   "mimetype": "text/x-python",
   "name": "python",
   "nbconvert_exporter": "python",
   "pygments_lexer": "ipython3",
   "version": "3.7.3"
  }
 },
 "nbformat": 4,
 "nbformat_minor": 2
}
