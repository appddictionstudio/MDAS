{
 "cells": [
  {
   "cell_type": "code",
   "execution_count": 16,
   "metadata": {},
   "outputs": [
    {
     "name": "stderr",
     "output_type": "stream",
     "text": [
      "c:\\users\\ksummersill\\appdata\\local\\programs\\python\\python37\\lib\\site-packages\\ipykernel_launcher.py:64: SettingWithCopyWarning: \n",
      "A value is trying to be set on a copy of a slice from a DataFrame\n",
      "\n",
      "See the caveats in the documentation: http://pandas.pydata.org/pandas-docs/stable/indexing.html#indexing-view-versus-copy\n"
     ]
    },
    {
     "data": {
      "text/plain": [
       "'[{\"SEC_CONV\":\"Basic Industries\",\"Conversion\":\"75.11 M\"},{\"SEC_CONV\":\"Capital Goods\",\"Conversion\":\"91.96 M\"},{\"SEC_CONV\":\"Consumer Industry\",\"Conversion\":\"80.41 M\"},{\"SEC_CONV\":\"Finance\",\"Conversion\":\"56.36 M\"},{\"SEC_CONV\":\"Health Care\",\"Conversion\":\"61.03 M\"},{\"SEC_CONV\":\"Miscellaneous\",\"Conversion\":\"61.35 M\"},{\"SEC_CONV\":\"No Industry Identified\",\"Conversion\":\"31.63 M\"},{\"SEC_CONV\":\"Public Utilities\",\"Conversion\":\"27.97 M\"},{\"SEC_CONV\":\"Technology\\\\/Energy\",\"Conversion\":\"72.44 M\"},{\"SEC_CONV\":\"Transportation\",\"Conversion\":\"258.05 M\"}]'"
      ]
     },
     "execution_count": 16,
     "metadata": {},
     "output_type": "execute_result"
    }
   ],
   "source": [
    "import requests\n",
    "import json\n",
    "import pandas as pd\n",
    "import numpy as np\n",
    "df = pd.DataFrame()\n",
    "def tokmb (num):\n",
    "    convNum = ''\n",
    "    if (num >= 1000 and num < 1000000):\n",
    "        num = round (num/1000.00,2)\n",
    "        round (num, 2)\n",
    "        convNum = str(num) + \" K\"\n",
    "        return convNum\n",
    "    elif (num >= 1000000 and num < 1000000000):\n",
    "        num = round (num/1000000.00,2)\n",
    "        round (num, 2)\n",
    "        convNum = str(num) + \" M\"\n",
    "        return convNum\n",
    "    elif (num >= 1000000000 and num < 1000000000000):\n",
    "        num = round (num/1000000000.00,2)\n",
    "        convNum = str(num) + \" B\"\n",
    "        return convNum\n",
    "def get_avg_sector_rates():\n",
    "    sub = ''\n",
    "    cols_to_use = [0,1,2,3,4,5,6,7]\n",
    "    csv_file_path = r\"../../assets/companylist.csv\"\n",
    "    df = pd.read_csv(csv_file_path, \n",
    "        usecols= cols_to_use,\n",
    "        encoding='utf-8'\n",
    "        )\n",
    "    df['IPOyear'] = df['IPOyear'].astype(str)\n",
    "    df['IPOyear'] = df['IPOyear'].str.strip('.0')\n",
    "    df = df.rename(index=str, columns = {\"Symbol\": \"SYM\", \"Name\": \"CO.\", \"LastSale\": \"LP\", \"MarketCap\": \"MRKCAP\", \"IPOyear\": \"YR\", \"Sector\": \"SEC\", \"industry\": \"IND\", \"Summary Quote\": \"SUMQTE\"})\n",
    "    df['SYM'] = df['SYM'].str.strip()\n",
    "    df['SEC'] = df['SEC'].str.strip()\n",
    "    df['SEC_CONV'] = np.where(df['SEC']==\"Consumer Durables\", 'Consumer Industry', df['SEC'])\n",
    "    df['SEC_CONV'] = np.where(df['SEC']==\"Consumer Non-Durables\", 'Consumer Industry', df['SEC'])\n",
    "    df['SEC_CONV'] = np.where(df['SEC']=='Consumer Services', 'Consumer Industry', df['SEC'])\n",
    "    df[\"SEC\"] = df[\"SEC\"].replace(\"Empty\", \"No Industry Identified\")\n",
    "    df[\"SEC_CONV\"] = df[\"SEC_CONV\"].replace(\"Empty\", \"No Industry Identified\")\n",
    "    df[\"SEC_CONV\"] = df[\"SEC_CONV\"].replace(\"Consumer Durables\", \"Consumer Industry\")\n",
    "    df[\"SEC_CONV\"] = df[\"SEC_CONV\"].replace(\"Consumer Non-Durables\", \"Consumer Industry\")\n",
    "    df[\"SEC_CONV\"] = df[\"SEC_CONV\"].replace(\"Technology\", \"Technology/Energy\")\n",
    "    df[\"SEC_CONV\"] = df[\"SEC_CONV\"].replace(\"Energy\", \"Technology/Energy\")\n",
    "    df = df.groupby('SEC_CONV').head(100)\n",
    "    df = df.iloc[:, [8,3]]\n",
    "    df['MRKCAP'] = df['MRKCAP'].str.replace('$', '')\n",
    "    df['MRKCAP'] = df['MRKCAP'].str.replace(',', '')\n",
    "    df['MRKCAP'] = df['MRKCAP'].str.replace('M', ' M')\n",
    "    df['MRKCAP'] = df['MRKCAP'].str.replace('B', ' B')\n",
    "    df['SEC_CONV'] = df['SEC_CONV'].fillna(value='No Industry Identified')\n",
    "    df['MRKCAP'] = df['MRKCAP'].fillna(value='0 D')\n",
    "    df.dropna(inplace = True)\n",
    "    df[['MRKCAP_AMT','MRKCAP_TYPE']] = df.MRKCAP.str.split(\" \",expand=True,)\n",
    "    millions = df['MRKCAP_AMT'].str.replace('.', '').fillna(value='0').astype(int).multiply(other = 100, fill_value = 5)\n",
    "    billions = df['MRKCAP_AMT'].str.replace('.', '').fillna(value='0').astype(int).multiply(other = 1000000, fill_value = 5)\n",
    "    df.loc[df['MRKCAP_TYPE'] == 'M', 'Conversion'] = millions\n",
    "    df.loc[df['MRKCAP_TYPE'] == 'B', 'Conversion'] = billions\n",
    "    df.loc[df['MRKCAP_TYPE'] == 'D', 'Conversion'] = 0\n",
    "    df.loc[df['MRKCAP_TYPE'] == 'None', 'Conversion'] = df['MRKCAP_AMT'].fillna(value='0')\n",
    "    df['Conversion'] = df['Conversion'].fillna(value='0')\n",
    "    df['Conversion'] = df['Conversion'].astype(int)\n",
    "    res = df.groupby(['SEC_CONV'])['Conversion'].mean().reset_index()\n",
    "    for x in range (0, len(res['Conversion'])):\n",
    "        res ['Conversion'][x] = tokmb(res ['Conversion'][x])\n",
    "    res = res.to_json(orient='records')\n",
    "#     res = json.dumps(res)\n",
    "    #res = res.replace('\\\\','')\n",
    "    return res\n",
    "get_avg_sector_rates()"
   ]
  }
 ],
 "metadata": {
  "kernelspec": {
   "display_name": "Python 3",
   "language": "python",
   "name": "python3"
  },
  "language_info": {
   "codemirror_mode": {
    "name": "ipython",
    "version": 3
   },
   "file_extension": ".py",
   "mimetype": "text/x-python",
   "name": "python",
   "nbconvert_exporter": "python",
   "pygments_lexer": "ipython3",
   "version": "3.7.3"
  }
 },
 "nbformat": 4,
 "nbformat_minor": 2
}
